{
 "cells": [
  {
   "cell_type": "markdown",
   "metadata": {},
   "source": [
    "# Explore the dataset\n",
    "\n",
    "\n",
    "In this notebook, we will perform an EDA (Exploratory Data Analysis) on the processed Waymo dataset (data in the `processed` folder). In the first part, you will create a function to display "
   ]
  },
  {
   "cell_type": "code",
   "execution_count": null,
   "metadata": {},
   "outputs": [],
   "source": [
    "from download_process import download_and_process\n",
    "from utils import get_dataset"
   ]
  },
  {
   "cell_type": "code",
   "execution_count": null,
   "metadata": {},
   "outputs": [],
   "source": [
    "dataset = download_and_process(\"segment-10017090168044687777_6380_000_6400_000_with_camera_labels.tfrecord\", \"./data\")\n",
    "# dataset = get_dataset(\"./data/segment-10017090168044687777_6380_000_6400_000_with_camera_labels.tfrecord\")"
   ]
  },
  {
   "cell_type": "markdown",
   "metadata": {},
   "source": [
    "## Write a function to display an image and the bounding boxes\n",
    "\n",
    "Implement the `display_instances` function below. This function takes a batch as an input and display an image with its corresponding bounding boxes. The only requirement is that the classes should be color coded (eg, vehicles in red, pedestrians in blue, cyclist in green)."
   ]
  },
  {
   "cell_type": "code",
   "execution_count": null,
   "metadata": {},
   "outputs": [],
   "source": [
    "def display_instances(batch):\n",
    "    \"\"\"\n",
    "    This function takes a batch from the dataset and display the image with \n",
    "    the associated bounding boxes.\n",
    "    \"\"\"\n",
    "    # ADD CODE HERE\n",
    "    # mapping to access data faster\n",
    "    gtdic = {}\n",
    "    for gt in ground_truth:\n",
    "        gtdic[gt['filename']] = gt\n",
    "\n",
    "    # color mapping of classes\n",
    "    colormap = {1: [1, 0, 0], 2: [0, 1, 0], 4: [0, 0, 1]}\n",
    "\n",
    "    f, ax = plt.subplots(2, 5, figsize=(20, 10))\n",
    "    for i, tf_img in enumerate(batch):\n",
    "        x = i % 2\n",
    "        y = i % 5\n",
    "\n",
    "        img = Image.open(tf_img)\n",
    "        ax[x, y].imshow(img)\n",
    "\n",
    "        bboxes = gtdic[filename]['boxes']\n",
    "        classes = gtdic[filename]['classes']\n",
    "        for cl, bb in zip(classes, bboxes):\n",
    "            y1, x1, y2, x2 = bb\n",
    "            rec = Rectangle(\n",
    "                (x1, y1),\n",
    "                x2 - x1, y2 - y1, \n",
    "                facecolor = 'none',\n",
    "                edgecolor = colormap[cl]\n",
    "            )\n",
    "            ax[x, y].add_patch(rec)\n",
    "        ax[x, y].axis('off')\n",
    "    plt.tight_layout()\n",
    "    plt.show()"
   ]
  },
  {
   "cell_type": "markdown",
   "metadata": {},
   "source": [
    "## Display 10 images \n",
    "\n",
    "Using the dataset created in the second cell and the function you just coded, display 10 random images with the associated bounding boxes. You can use the methods `take` and `shuffle` on the dataset."
   ]
  },
  {
   "cell_type": "code",
   "execution_count": null,
   "metadata": {},
   "outputs": [],
   "source": [
    "## STUDENT SOLUTION HERE\n",
    "dataset = dataset.shuffle(10, reshuffle_each_iteration=True)\n",
    "dataset = dataset.take(10)\n",
    "display_instances(dataset)"
   ]
  },
  {
   "cell_type": "markdown",
   "metadata": {},
   "source": [
    "## Additional EDA\n",
    "\n",
    "In this last part, you are free to perform any additional analysis of the dataset. What else would like to know about the data?\n",
    "For example, think about data distribution. So far, you have only looked at a single file..."
   ]
  },
  {
   "cell_type": "code",
   "execution_count": null,
   "metadata": {},
   "outputs": [],
   "source": []
  }
 ],
 "metadata": {
  "kernelspec": {
   "display_name": "Python 3 (ipykernel)",
   "language": "python",
   "name": "python3"
  },
  "language_info": {
   "codemirror_mode": {
    "name": "ipython",
    "version": 3
   },
   "file_extension": ".py",
   "mimetype": "text/x-python",
   "name": "python",
   "nbconvert_exporter": "python",
   "pygments_lexer": "ipython3",
   "version": "3.8.10"
  }
 },
 "nbformat": 4,
 "nbformat_minor": 4
}
